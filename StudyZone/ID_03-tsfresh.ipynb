{
 "cells": [
  {
   "cell_type": "code",
   "execution_count": 12,
   "metadata": {},
   "outputs": [],
   "source": [
    "#ID03 - tsFresh data extraction\n",
    "\n",
    "# \n",
    "# "
   ]
  },
  {
   "cell_type": "code",
   "execution_count": 13,
   "metadata": {},
   "outputs": [],
   "source": [
    "# Configuration Data\n",
    "SELECT_DATE = \"20210120\""
   ]
  },
  {
   "cell_type": "code",
   "execution_count": 14,
   "metadata": {},
   "outputs": [],
   "source": [
    "import os\n",
    "import pandas as pd\n",
    "import numpy as np \n",
    "from glob import iglob\n",
    "import matplotlib.pyplot as plt\n",
    "from tsfresh import extract_features\n",
    "\n",
    "header_list = ['Date', 'DateStr','TimeStr' ,'Open', 'High', 'Low', 'Close', 'Null1', 'Null2', 'Null3', 'Null4']\n",
    "path = r'/home/parag/devArea/pyStock/Data/Consolidated/*banknifty.txt'\n",
    "BNdf = pd.concat((pd.read_csv(f, header=None, sep=',', names=header_list) for f in iglob(path, recursive=True)), ignore_index=True)\n",
    "BNdf['Date']=(pd.to_datetime(BNdf.DateStr.astype(str) + ' ' + BNdf.TimeStr.astype(str), format='%Y%m%d %H:%M'))\n",
    "BNdf = BNdf.drop(['DateStr', 'TimeStr', 'Null1', 'Null2', 'Null3', 'Null4'], axis=1)\n",
    "BNdf.set_index('Date',inplace=True)\n",
    "\n",
    "# Copy todays data\n",
    "today = BNdf.loc[SELECT_DATE]\n"
   ]
  },
  {
   "cell_type": "code",
   "execution_count": 15,
   "metadata": {},
   "outputs": [
    {
     "name": "stdout",
     "output_type": "stream",
     "text": [
      "22\n"
     ]
    }
   ],
   "source": [
    "from tsfresh import feature_extraction\n",
    "\n",
    "a = feature_extraction.feature_calculators.number_crossing_m(today, 32400)\n",
    "#a = feature_extraction.feature_calculators.range_count(today, 32100, 32000)\n",
    "#a = feature_extraction.feature_calculators.standard_deviation(today)\n",
    "print(a)"
   ]
  },
  {
   "cell_type": "code",
   "execution_count": null,
   "metadata": {},
   "outputs": [],
   "source": []
  }
 ],
 "metadata": {
  "kernelspec": {
   "display_name": "Python 3",
   "language": "python",
   "name": "python3"
  },
  "language_info": {
   "codemirror_mode": {
    "name": "ipython",
    "version": 3
   },
   "file_extension": ".py",
   "mimetype": "text/x-python",
   "name": "python",
   "nbconvert_exporter": "python",
   "pygments_lexer": "ipython3",
   "version": "3.8.5"
  }
 },
 "nbformat": 4,
 "nbformat_minor": 4
}
