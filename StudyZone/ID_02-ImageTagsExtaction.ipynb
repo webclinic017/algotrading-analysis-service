{
 "cells": [
  {
   "cell_type": "code",
   "execution_count": null,
   "metadata": {},
   "outputs": [],
   "source": [
    "#ID01 - Image Attributes for ID01\n",
    "\n",
    "# Pending\n",
    "# - Merge with ID01"
   ]
  },
  {
   "cell_type": "code",
   "execution_count": 3,
   "metadata": {},
   "outputs": [],
   "source": [
    "import os\n",
    "import pandas as pd\n",
    "import numpy as np \n",
    "from glob import iglob\n",
    "import matplotlib.pyplot as plt\n",
    "#pd.__version__\n",
    "\n",
    "header_list = ['Date', 'DateStr','TimeStr' ,'Open', 'High', 'Low', 'Close', 'Null1', 'Null2', 'Null3', 'Null4']\n",
    "path = r'/home/parag/devArea/pyStock/Data/Consolidated/*banknifty.txt'\n",
    "BNF = pd.concat((pd.read_csv(f, header=None, sep=',', names=header_list) for f in iglob(path, recursive=True)), ignore_index=True)\n",
    "BNF['Date']=(pd.to_datetime(BNF.DateStr.astype(str) + ' ' + BNF.TimeStr.astype(str), format='%Y%m%d %H:%M'))\n",
    "BNFs = BNF.drop(['DateStr', 'TimeStr', 'Null1', 'Null2', 'Null3', 'Null4'], axis=1)\n",
    "BNFs.index = BNFs[\"Date\"]"
   ]
  },
  {
   "cell_type": "code",
   "execution_count": 4,
   "metadata": {},
   "outputs": [],
   "source": [
    "# Configuration Data\n",
    "CFG_orb_candles = 15 # val * 1min candles\n",
    "CFG_match_timestamp = \"20210119\""
   ]
  },
  {
   "cell_type": "code",
   "execution_count": 5,
   "metadata": {},
   "outputs": [
    {
     "data": {
      "text/html": [
       "<div>\n",
       "<style scoped>\n",
       "    .dataframe tbody tr th:only-of-type {\n",
       "        vertical-align: middle;\n",
       "    }\n",
       "\n",
       "    .dataframe tbody tr th {\n",
       "        vertical-align: top;\n",
       "    }\n",
       "\n",
       "    .dataframe thead th {\n",
       "        text-align: right;\n",
       "    }\n",
       "</style>\n",
       "<table border=\"1\" class=\"dataframe\">\n",
       "  <thead>\n",
       "    <tr style=\"text-align: right;\">\n",
       "      <th></th>\n",
       "      <th>Date</th>\n",
       "      <th>Prev Close</th>\n",
       "      <th>Gap</th>\n",
       "      <th>EoD Delta</th>\n",
       "      <th>Today Open</th>\n",
       "      <th>EoD Close</th>\n",
       "      <th>Eod Close in Gap</th>\n",
       "      <th>Day Range</th>\n",
       "      <th>Day Volatility</th>\n",
       "    </tr>\n",
       "  </thead>\n",
       "  <tbody>\n",
       "    <tr>\n",
       "      <th>0</th>\n",
       "      <td>20210119</td>\n",
       "      <td>31811.75</td>\n",
       "      <td>271</td>\n",
       "      <td>341</td>\n",
       "      <td>32082.9</td>\n",
       "      <td>32424.85</td>\n",
       "      <td>Above Gap</td>\n",
       "      <td>601.0</td>\n",
       "      <td>0</td>\n",
       "    </tr>\n",
       "  </tbody>\n",
       "</table>\n",
       "</div>"
      ],
      "text/plain": [
       "       Date  Prev Close  Gap EoD Delta  Today Open  EoD Close  \\\n",
       "0  20210119    31811.75  271       341     32082.9   32424.85   \n",
       "\n",
       "  Eod Close in Gap  Day Range Day Volatility  \n",
       "0        Above Gap      601.0              0  "
      ]
     },
     "execution_count": 5,
     "metadata": {},
     "output_type": "execute_result"
    }
   ],
   "source": [
    "ID_01_Scan = pd.DataFrame(columns=['Date', 'Prev Close', 'Gap', 'EoD Delta', 'Today Open', 'EoD Close', 'Eod Close in Gap', 'Day Range', 'Day Volatility'])\n",
    "\n",
    "# Copy todays data\n",
    "today = BNFs.loc[BNFs.index.strftime(\"%Y%m%d\") == CFG_match_timestamp]\n",
    "today.index = today[\"Date\"]\n",
    "day_low = today[\"Low\"].min()\n",
    "day_high = today[\"High\"].max()\n",
    "\n",
    "# Determine ORB\n",
    "loc_arry = BNFs.index.get_loc(CFG_match_timestamp)\n",
    "orb      = BNFs.iloc[loc_arry[0]:loc_arry[0]+CFG_orb_candles]\n",
    "orb_high = orb[\"Low\"].min()\n",
    "orb_low = orb[\"High\"].max()\n",
    "\n",
    "\n",
    "prev_day_close = BNFs[\"Close\"].iloc[loc_arry[0]-1]\n",
    "next_day_open = BNFs[\"Open\"].iloc[loc_arry[loc_arry.size-1]+1]\n",
    "today_open = BNFs[\"Open\"].iloc[loc_arry[0]]\n",
    "today_close = BNFs[\"Close\"].iloc[loc_arry[loc_arry.size-1]]\n",
    "\n",
    "if today_close >  today_open :\n",
    "    gapState = \"Above Gap\"\n",
    "elif today_close < prev_day_close :    \n",
    "    gapState = \"Below Gap\"\n",
    "else :\n",
    "    gapState = \"In the Gap\"\n",
    "\n",
    "data = [{'Date' : CFG_match_timestamp,\n",
    "         'Gap' : (today_open - prev_day_close).astype(int), \n",
    "         'EoD Delta' : (today_close - today_open).astype(int), \n",
    "         'Today Open' : today_open ,\n",
    "         'Prev Close' : prev_day_close ,\n",
    "         'EoD Close' : today_close ,\n",
    "         'Eod Close in Gap' : gapState,\n",
    "         'Day Range': day_high - day_low,\n",
    "         'Day Volatility' : 0}]\n",
    "\n",
    "ID_01_Scan = ID_01_Scan.append(data,ignore_index=False,sort=False)\n",
    "\n",
    "ID_01_Scan.head()\n",
    "#orb.tail()\n"
   ]
  },
  {
   "cell_type": "code",
   "execution_count": 2,
   "metadata": {},
   "outputs": [],
   "source": [
    "#print(BNFs[\"Close\"].iloc[loc_arry[loc_arry.size-1]])"
   ]
  },
  {
   "cell_type": "code",
   "execution_count": null,
   "metadata": {},
   "outputs": [],
   "source": []
  }
 ],
 "metadata": {
  "kernelspec": {
   "display_name": "Python 3",
   "language": "python",
   "name": "python3"
  },
  "language_info": {
   "codemirror_mode": {
    "name": "ipython",
    "version": 3
   },
   "file_extension": ".py",
   "mimetype": "text/x-python",
   "name": "python",
   "nbconvert_exporter": "python",
   "pygments_lexer": "ipython3",
   "version": "3.8.5"
  }
 },
 "nbformat": 4,
 "nbformat_minor": 4
}
