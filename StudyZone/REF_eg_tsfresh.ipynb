{
 "cells": [
  {
   "cell_type": "code",
   "execution_count": 1,
   "metadata": {},
   "outputs": [],
   "source": [
    "#ID03 - tsfresh - feature extractions\n",
    "\n",
    "\n",
    "# Pending"
   ]
  },
  {
   "cell_type": "code",
   "execution_count": 4,
   "metadata": {},
   "outputs": [
    {
     "name": "stdout",
     "output_type": "stream",
     "text": [
      "['aa ab ba ab bb ba' 'ab bc cc ca aa ac']\n",
      "['aa ab ba ab bb bb bb ba' 'ab bc cc cc cc ca aa ac']\n"
     ]
    }
   ],
   "source": [
    "\n",
    "from pyts.bag_of_words import WordExtractor\n",
    "X = [['a', 'a', 'b', 'a', 'b', 'b', 'b', 'b', 'a'],\n",
    "     ['a', 'b', 'c', 'c', 'c', 'c', 'a', 'a', 'c']]\n",
    "word = WordExtractor(window_size=2)\n",
    "print(word.transform(X))\n",
    "\n",
    "word = WordExtractor(window_size=2, numerosity_reduction=False)\n",
    "print(word.transform(X))\n"
   ]
  },
  {
   "cell_type": "code",
   "execution_count": null,
   "metadata": {},
   "outputs": [],
   "source": []
  },
  {
   "cell_type": "code",
   "execution_count": null,
   "metadata": {},
   "outputs": [],
   "source": []
  }
 ],
 "metadata": {
  "kernelspec": {
   "display_name": "Python 3",
   "language": "python",
   "name": "python3"
  },
  "language_info": {
   "codemirror_mode": {
    "name": "ipython",
    "version": 3
   },
   "file_extension": ".py",
   "mimetype": "text/x-python",
   "name": "python",
   "nbconvert_exporter": "python",
   "pygments_lexer": "ipython3",
   "version": "3.8.5"
  }
 },
 "nbformat": 4,
 "nbformat_minor": 4
}
