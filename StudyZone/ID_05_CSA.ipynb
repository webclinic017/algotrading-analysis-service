{
 "cells": [
  {
   "cell_type": "markdown",
   "metadata": {
    "tags": []
   },
   "source": [
    "## Candle Sentinment Analyser\n",
    "\n",
    "- Determine the price action - Bullish/Bearish with force level\n",
    "- Outputs - Priming, Gravity, Stall, Bullish, Bearish."
   ]
  },
  {
   "cell_type": "code",
   "execution_count": 4,
   "metadata": {
    "tags": []
   },
   "outputs": [
    {
     "name": "stdout",
     "output_type": "stream",
     "text": [
      "The autoreload extension is already loaded. To reload it, use:\n",
      "  %reload_ext autoreload\n"
     ]
    }
   ],
   "source": [
    "%load_ext autoreload\n",
    "%autoreload 2"
   ]
  },
  {
   "cell_type": "code",
   "execution_count": 5,
   "metadata": {
    "tags": []
   },
   "outputs": [],
   "source": [
    "# imports\n",
    "import os\n",
    "import sys\n",
    "import time\n",
    "import numpy as np\n",
    "import pandas as pd\n",
    "from tqdm import tqdm\n",
    "from time import strftime\n",
    "import matplotlib.pyplot as plt\n",
    "\n",
    "# Importing libraries\n",
    "sys.path.append(BASE_PATH+'/Libraries/')\n",
    "from lib_STOCK import readStockData\n",
    "from lib_CANDLES import convertCandleSize"
   ]
  },
  {
   "cell_type": "code",
   "execution_count": 6,
   "metadata": {
    "tags": []
   },
   "outputs": [
    {
     "name": "stdout",
     "output_type": "stream",
     "text": [
      "Total Entries:  7177 \n",
      "Days:  29 days 06:24:00 \n",
      "Reading Stock Data:\n",
      " /home/parag/devArea/pyStock/Data/Consolidated/2021_04*banknifty.txt\n"
     ]
    }
   ],
   "source": [
    "# Configuration Data\n",
    "cNIFTY50 = 'nifty50'\n",
    "cNIFTYBANK = 'banknifty'\n",
    "BASE_PATH = \"/home/parag/devArea/pyStock\"\n",
    "RESULTS_HEADER = ['Strategy', 'Date', 'Csize', 'Signal', \\\n",
    "                  'Entry', 'EntryTime', 'Target', 'SL', 'Exit', 'ExitTime', 'Reason', 'Result', 'ResultPerc', \\\n",
    "                         'SMax', 'SMaxD','SMaxTime', 'SMin', 'SMinD','SMinTime', 'ExitCriteria']\n",
    "\n",
    "NIFTY_DATA_FILTER = '2021_04' #'2020_02'\n",
    "\n",
    "BNFs, df_dates = readStockData(BASE_PATH, NIFTY_DATA_FILTER, cNIFTYBANK)"
   ]
  },
  {
   "cell_type": "code",
   "execution_count": null,
   "metadata": {
    "tags": []
   },
   "outputs": [],
   "source": []
  },
  {
   "cell_type": "code",
   "execution_count": 7,
   "metadata": {},
   "outputs": [],
   "source": [
    "def analyseCandleFlow (df, selectedDate, period):\n",
    "    period = 1\n",
    "    # 1. count green/red candles. > 50% gives direction\n",
    "    # 2. size of green/red determines the force in the direction\n",
    "    # 3. Return interpreted status\n",
    "    \n",
    "    \n",
    "    \n",
    "    \n",
    "    \n",
    "    "
   ]
  },
  {
   "cell_type": "code",
   "execution_count": 8,
   "metadata": {
    "tags": []
   },
   "outputs": [
    {
     "name": "stderr",
     "output_type": "stream",
     "text": [
      "100%|\u001b[32m██████████\u001b[0m| 19/19 [00:00<00:00, 685.41it/s]\n"
     ]
    }
   ],
   "source": [
    "for i, values in tqdm(df_dates.iterrows(), total=df_dates.shape[0], colour='green'):\n",
    "    selectedDate = i.strftime('%Y%m%d')   #Convert datetime to string\n",
    "    filteredDayDF = BNFs.loc[selectedDate]\n",
    "\n",
    "   \n",
    "    # run backtest if signal detected\n",
    "    analyseCandleFlow(filteredDayDF, selectedDate, '30Min')\n",
    "    \n",
    "    \n",
    "   "
   ]
  },
  {
   "cell_type": "markdown",
   "metadata": {},
   "source": [
    "### Print Bar chart to verify analysis"
   ]
  },
  {
   "cell_type": "code",
   "execution_count": null,
   "metadata": {},
   "outputs": [],
   "source": []
  },
  {
   "cell_type": "code",
   "execution_count": null,
   "metadata": {},
   "outputs": [],
   "source": []
  }
 ],
 "metadata": {
  "kernelspec": {
   "display_name": "Python 3",
   "language": "python",
   "name": "python3"
  },
  "language_info": {
   "codemirror_mode": {
    "name": "ipython",
    "version": 3
   },
   "file_extension": ".py",
   "mimetype": "text/x-python",
   "name": "python",
   "nbconvert_exporter": "python",
   "pygments_lexer": "ipython3",
   "version": "3.8.5"
  },
  "toc-autonumbering": false,
  "toc-showcode": false,
  "toc-showmarkdowntxt": false,
  "toc-showtags": false
 },
 "nbformat": 4,
 "nbformat_minor": 4
}
