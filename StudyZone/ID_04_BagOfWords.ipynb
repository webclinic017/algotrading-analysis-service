{
 "cells": [
  {
   "cell_type": "code",
   "execution_count": null,
   "metadata": {},
   "outputs": [],
   "source": [
    "#Step1 - Generate SAX\n",
    "#Stepe - Generate BagOfWords\n",
    "\n",
    "# Configuration Data\n",
    "SELECT_DATE = \"20210120\"\n",
    "SAX_BINS = 5\n",
    "SAX_STRATEGY ='uniform'\n",
    "BOW_WINDOW_SIZE = 1\n",
    "BOW_NUM_REDUCE = True"
   ]
  },
  {
   "cell_type": "code",
   "execution_count": null,
   "metadata": {},
   "outputs": [],
   "source": [
    "import os\n",
    "import pandas as pd\n",
    "import numpy as np \n",
    "from pyts.bag_of_words import WordExtractor\n",
    "from pyts.approximation import SymbolicAggregateApproximation\n",
    "\n",
    "header_list = ['Date', 'DateStr','TimeStr' ,'Open', 'High', 'Low', 'Close', 'Null1', 'Null2', 'Null3', 'Null4']\n",
    "path = r'/home/parag/devArea/pyStock/Data/Consolidated/*banknifty.txt'\n",
    "BNdf = pd.concat((pd.read_csv(f, header=None, sep=',', names=header_list) for f in iglob(path, recursive=True)), ignore_index=True)\n",
    "BNdf['Date']=(pd.to_datetime(BNdf.DateStr.astype(str) + ' ' + BNdf.TimeStr.astype(str), format='%Y%m%d %H:%M'))\n",
    "\n",
    "BNdf = BNdf.drop(['DateStr', 'TimeStr', 'Null1', 'Null2', 'Null3', 'Null4'], axis=1)\n",
    "BNdf = BNdf.drop(['Open', 'High', 'Low'], axis=1)\n",
    "BNdf.set_index('Date',inplace=True)"
   ]
  },
  {
   "cell_type": "code",
   "execution_count": null,
   "metadata": {},
   "outputs": [],
   "source": [
    "# Filter Date & Read day open 1st candle\n",
    "dayFiltered = BNdf.loc[SELECT_DATE]\n",
    "dayOpen = dayFiltered[\"Close\"].iloc[0]\n",
    "\n",
    "# Convert to array and substract dayOpen to normalize the data, else SAX fails\n",
    "arr = (dayFiltered['Close'] - dayOpen).round().to_list()\n",
    "X = arr\n"
   ]
  },
  {
   "cell_type": "code",
   "execution_count": null,
   "metadata": {},
   "outputs": [],
   "source": [
    "# SAX transformation\n",
    "sax = SymbolicAggregateApproximation(n_bins=SAX_BINS, strategy=SAX_STRATEGY)\n",
    "X_sax = sax.fit_transform([arr])\n",
    "\n",
    "print(\"SAX Normalisation of length \",len(X_sax[0]), \"\\n\", X_sax)"
   ]
  },
  {
   "cell_type": "code",
   "execution_count": null,
   "metadata": {},
   "outputs": [],
   "source": [
    "bow = WordExtractor(window_size=BOW_WINDOW_SIZE, numerosity_reduction=BOW_NUM_REDUCE)\n",
    "X_bow = bow.transform(X_sax)\n",
    "print(\"Bag of Words Extraction -\", len(X_bow[0]),\"\\n\" ,X_bow)"
   ]
  },
  {
   "cell_type": "code",
   "execution_count": null,
   "metadata": {},
   "outputs": [],
   "source": [
    "#print(X_bow, \"is of type\", type(X_bow))"
   ]
  },
  {
   "cell_type": "code",
   "execution_count": null,
   "metadata": {},
   "outputs": [],
   "source": []
  }
 ],
 "metadata": {
  "kernelspec": {
   "display_name": "Python 3",
   "language": "python",
   "name": "python3"
  },
  "language_info": {
   "codemirror_mode": {
    "name": "ipython",
    "version": 3
   },
   "file_extension": ".py",
   "mimetype": "text/x-python",
   "name": "python",
   "nbconvert_exporter": "python",
   "pygments_lexer": "ipython3",
   "version": "3.8.5"
  }
 },
 "nbformat": 4,
 "nbformat_minor": 4
}
